{
 "cells": [
  {
   "cell_type": "code",
   "execution_count": null,
   "id": "792a84f1-aef6-405c-bc0d-cc222c0f766f",
   "metadata": {},
   "outputs": [],
   "source": [
    "\"\"\"Purpose is to find the mean, median, mode, count, and sum of a central tendency data set\"\"\""
   ]
  },
  {
   "cell_type": "code",
   "execution_count": 19,
   "id": "1a800d2c-80d3-47ad-8f87-1aae00238f90",
   "metadata": {},
   "outputs": [
    {
     "name": "stdout",
     "output_type": "stream",
     "text": [
      "The number of variables is: 14 and the sum is 1034\n"
     ]
    }
   ],
   "source": [
    "numbers = 66,45,90,33,75,86,80,81,76,75,40,95,92,100\n",
    "\n",
    "print(f'The number of variables is: {len(numbers)} and the sum is {sum(numbers)}')\n",
    "\n",
    "import statistics"
   ]
  },
  {
   "cell_type": "code",
   "execution_count": 27,
   "id": "ebca8b83-ea3b-47fa-8871-a5b4fecb6a2a",
   "metadata": {},
   "outputs": [
    {
     "name": "stdout",
     "output_type": "stream",
     "text": [
      "The mean is 73.86 and the median is 78.0 and finally the mode is 75\n"
     ]
    }
   ],
   "source": [
    "print(f'The mean is {statistics.mean(numbers):.2f} and the median is {statistics.median(numbers)} and finally the mode is {statistics.mode(numbers)}')"
   ]
  }
 ],
 "metadata": {
  "kernelspec": {
   "display_name": "Python 3",
   "language": "python",
   "name": "python3"
  },
  "language_info": {
   "codemirror_mode": {
    "name": "ipython",
    "version": 3
   },
   "file_extension": ".py",
   "mimetype": "text/x-python",
   "name": "python",
   "nbconvert_exporter": "python",
   "pygments_lexer": "ipython3",
   "version": "3.9.12"
  }
 },
 "nbformat": 4,
 "nbformat_minor": 5
}
