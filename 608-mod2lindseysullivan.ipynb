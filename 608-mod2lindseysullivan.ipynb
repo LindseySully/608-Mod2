{
 "cells": [
  {
   "cell_type": "markdown",
   "id": "2b20909e-8212-471f-894e-6a7bfa823365",
   "metadata": {},
   "source": [
    "Chapter 3.4\n",
    "You can consturct any PYthon program from only six different forms of control (sequential execution, and the if, if..else, if..elif..else, while and for statemnts). You combine these in only two ways (control-statement stacking and control-statement nesting)"
   ]
  },
  {
   "cell_type": "code",
   "execution_count": 1,
   "id": "b4c2e6ee-0833-42f1-961f-6db4f8754a3c",
   "metadata": {},
   "outputs": [],
   "source": [
    "#Self Check\n",
    "#You can write all programs using three forms of control\n",
    "#sequential execution, selection statements, repetition statements"
   ]
  },
  {
   "cell_type": "code",
   "execution_count": 2,
   "id": "f36a298c-dbe3-4d66-b9d5-8f81022c36a6",
   "metadata": {},
   "outputs": [],
   "source": [
    "#Self Check\n",
    "#An ____ is a graphical representation of an algorithm.\n",
    "#Flowchart"
   ]
  },
  {
   "cell_type": "markdown",
   "id": "7fd446c5-c4da-4898-b4a8-c946d5057c07",
   "metadata": {},
   "source": [
    "Chapter 3.5\n",
    "if Statement\n",
    "\n",
    "if the condition is true - then complete the action, if the condition is false - skip those actions (group of actions)"
   ]
  },
  {
   "cell_type": "code",
   "execution_count": 3,
   "id": "01088431-9c56-41b7-bb2a-c8175b02374c",
   "metadata": {},
   "outputs": [
    {
     "name": "stdout",
     "output_type": "stream",
     "text": [
      "Passed\n"
     ]
    }
   ],
   "source": [
    "grade = 75\n",
    "if grade >= 60:\n",
    "    print('Passed')"
   ]
  },
  {
   "cell_type": "markdown",
   "id": "d9d07cbe-ec51-4f46-bd6d-787cf453d399",
   "metadata": {},
   "source": [
    "Note* - you must indent a suite; otherwise an IndentationError synax occurs"
   ]
  },
  {
   "cell_type": "code",
   "execution_count": 4,
   "id": "d783ba61-549d-4b46-a158-5c981981cfe2",
   "metadata": {},
   "outputs": [
    {
     "ename": "IndentationError",
     "evalue": "expected an indented block (<ipython-input-4-8708a23227d7>, line 3)",
     "output_type": "error",
     "traceback": [
      "\u001b[0;36m  Input \u001b[0;32mIn [4]\u001b[0;36m\u001b[0m\n\u001b[0;31m    print('Passed')\u001b[0m\n\u001b[0m    ^\u001b[0m\n\u001b[0;31mIndentationError\u001b[0m\u001b[0;31m:\u001b[0m expected an indented block\n"
     ]
    }
   ],
   "source": [
    "grade =75\n",
    "if grade >=60:\n",
    "print('Passed')"
   ]
  },
  {
   "cell_type": "markdown",
   "id": "98c83b11-5792-4a37-8f2d-af3ea2c78dbd",
   "metadata": {},
   "source": [
    "You can base decision on any expression. A nonzerio value is True. Zero is False. \n",
    "Strings containing characters are True and empty strings ('',\"\", or \"\"\"\"\"\") are False."
   ]
  },
  {
   "cell_type": "code",
   "execution_count": null,
   "id": "12efd94d-1b72-4dad-bd40-eeeca42d4faa",
   "metadata": {},
   "outputs": [],
   "source": [
    "if 1:\n",
    "    print('Nonzero values are true, so this will print')"
   ]
  },
  {
   "cell_type": "code",
   "execution_count": null,
   "id": "e62dd290-77d2-479a-933e-26ee53299742",
   "metadata": {},
   "outputs": [],
   "source": [
    "if 0:\n",
    "    print('Zero is false, so this will not print')"
   ]
  },
  {
   "cell_type": "markdown",
   "id": "99f3f6a4-aded-4e34-b925-1deae851ef0b",
   "metadata": {},
   "source": [
    "3.6 If..else and if..elif..else Statements\n",
    "\n",
    "if..else statements perform different suites based on whether a condition is true or false"
   ]
  },
  {
   "cell_type": "code",
   "execution_count": null,
   "id": "d954f963-aaca-4bce-a6ea-86c30f54d237",
   "metadata": {},
   "outputs": [],
   "source": [
    "grade = 75\n",
    "if grade >= 60:\n",
    "        print('The student passed.')\n",
    "else:\n",
    "    print('The student did not pass.')"
   ]
  },
  {
   "cell_type": "code",
   "execution_count": null,
   "id": "ab7d1e53-7e8b-4688-8e78-cd1eadb7e949",
   "metadata": {},
   "outputs": [],
   "source": [
    "grade = 55\n",
    "if grade >= 60:\n",
    "        print('The student passed.')\n",
    "else:\n",
    "    print('The student did not pass.')"
   ]
  },
  {
   "cell_type": "markdown",
   "id": "5b20262d-192f-4a9b-a85e-764697b24568",
   "metadata": {},
   "source": [
    "if...elif...else\n",
    "Allows for the testing of multiple cases, the only first TRUE condition executes. "
   ]
  },
  {
   "cell_type": "code",
   "execution_count": null,
   "id": "2f6876a7-d43b-494e-9d9b-742856368371",
   "metadata": {},
   "outputs": [],
   "source": [
    "grade = 75\n",
    "if grade>=90:\n",
    "    print('A')\n",
    "elif grade >= 80:\n",
    "    print('B')\n",
    "elif grade >= 70:\n",
    "    print('C')\n",
    "elif grade >= 60:\n",
    "    print('D')\n",
    "else:\n",
    "    print('F')"
   ]
  },
  {
   "cell_type": "code",
   "execution_count": null,
   "id": "5c31a21d-d188-4e57-98db-9ef31214538c",
   "metadata": {},
   "outputs": [],
   "source": [
    "#Self Check "
   ]
  },
  {
   "cell_type": "markdown",
   "id": "889b8b9a-4cc1-4d54-8adc-45ca83d4aad4",
   "metadata": {},
   "source": [
    "(T/F) A fatal logic error causesa script to produce incorrect results, then continue executing.\n",
    "    F - A fatal logic error caues a script to terminate. \n",
    " Show that a SyntaxError occurs if an if...elif statement specifices an else before the last elif."
   ]
  },
  {
   "cell_type": "code",
   "execution_count": null,
   "id": "0268c1f1-ee00-44fe-8cfb-bc1f185c63ba",
   "metadata": {},
   "outputs": [],
   "source": [
    "grade = 65\n",
    "if grade >=90:\n",
    "    print('A')\n",
    "else grade >= 80:\n",
    "    print('B')\n",
    "elif grade >= 70:\n",
    "    print('C')\n",
    "elif grade >= 60:\n",
    "    print('You did not pass')"
   ]
  },
  {
   "cell_type": "markdown",
   "id": "04db16b4-70fd-4bf5-ae51-1006955b931e",
   "metadata": {},
   "source": [
    "3.7 while Statement\n",
    "while Statement allows you to repeat one or more actions while a condition remains True aka a loop. "
   ]
  },
  {
   "cell_type": "code",
   "execution_count": null,
   "id": "a6e1e4ec-d37c-48a0-8d49-7ec37985257b",
   "metadata": {},
   "outputs": [],
   "source": [
    "cats = 2\n",
    "while cats <= 50:\n",
    "    cats *= 3\n",
    "    print(cats)"
   ]
  },
  {
   "cell_type": "markdown",
   "id": "27115c2e-4165-470a-96c1-2d0dba01dc91",
   "metadata": {},
   "source": [
    "3.8 for Statement\n",
    "for statement allows the repetition of an action or several actions. It performs those items in a sequence. "
   ]
  },
  {
   "cell_type": "code",
   "execution_count": null,
   "id": "bceadc7d-d964-493f-8f98-5fe7b8db2e6d",
   "metadata": {},
   "outputs": [],
   "source": [
    "for character in 'Sullivan':\n",
    "    print(character,end=' ')"
   ]
  },
  {
   "cell_type": "code",
   "execution_count": null,
   "id": "6f7201fc-0699-4566-a15d-31af6ddd6828",
   "metadata": {},
   "outputs": [],
   "source": [
    "#end is a keyword agrument - it is not a python keyword. The end keyword argument is optional\n",
    "#if it is not use by default print will use (\\n)\n",
    "#sep is also a keyword argument it can be used to specify the string that appears between the items that print displays"
   ]
  },
  {
   "cell_type": "code",
   "execution_count": null,
   "id": "2f40a7f3-6a32-4dae-b316-f70ec5d106b4",
   "metadata": {},
   "outputs": [],
   "source": [
    "print('Sullivan','Nicole','Lindsey',sep=' - ')"
   ]
  },
  {
   "cell_type": "markdown",
   "id": "1cbf45ba-3ac2-4429-8020-d875539520a4",
   "metadata": {},
   "source": [
    "Sequence to the right of a for statement must be an iterable - an object from which the for statement can take one item at a time until no more remain. - Some are strings, or a list i.e. [12,2,3,4]"
   ]
  },
  {
   "cell_type": "markdown",
   "id": "e63efb42-695c-451e-b084-d4977e2623bf",
   "metadata": {},
   "source": [
    "Additionally - there is a built in range function - it creates an iterable object that represents a sequence of consecutive integer values starting from 0 and continuing up to but not including the argument value. "
   ]
  },
  {
   "cell_type": "code",
   "execution_count": null,
   "id": "7b09c7d0-85f1-4c8e-a50d-da6761019a1e",
   "metadata": {},
   "outputs": [],
   "source": [
    "for counter in range(5):\n",
    "    print(counter,end=' ')"
   ]
  },
  {
   "cell_type": "code",
   "execution_count": null,
   "id": "823dcf6b-7278-4a8a-915f-50464765fee4",
   "metadata": {},
   "outputs": [],
   "source": [
    "#Self Check"
   ]
  },
  {
   "cell_type": "markdown",
   "id": "d0051d8c-73fb-4b2b-84ce-3490c038cb9a",
   "metadata": {},
   "source": [
    "Function ___ generates a sequence of integers.\n",
    " - Range\n",
    " Use the range function a for statement to calculate the total of the intergers 0 through 1,000,000"
   ]
  },
  {
   "cell_type": "code",
   "execution_count": null,
   "id": "f369ca52-1d1b-4eee-8c9f-ee9125628bec",
   "metadata": {},
   "outputs": [],
   "source": [
    "total = 0\n",
    "for number in range(1000001):\n",
    "    total += number\n",
    "print(total)\n",
    "#caution adding print into a for statement - the print statement will loop through each iteration"
   ]
  },
  {
   "cell_type": "markdown",
   "id": "14f2f4d2-3032-4da6-9270-f646ff0cb3a9",
   "metadata": {},
   "source": [
    "3.9 Augmented Assignments\n",
    "Abbreviate assignment expression sin which the same avariable appears on the left and right of the assignment's =, as above total would appear on both sides.\n",
    "\n",
    "+=,-=,*=,**=,%=,/=,//="
   ]
  },
  {
   "cell_type": "code",
   "execution_count": null,
   "id": "8d5270cb-bfc6-4d14-95f3-c8d11974e802",
   "metadata": {},
   "outputs": [],
   "source": [
    "#Self Check"
   ]
  },
  {
   "cell_type": "markdown",
   "id": "97c22714-1c9b-472a-9239-6ed2f5ca6ef6",
   "metadata": {},
   "source": [
    "If x is 7, the value of x after evaluation x *= 5 is ____\n",
    " - 35\n",
    "\n",
    "Create a variable x with the value 12. Use an exponentiation augmented assignment statement to square x's value. Show x's new value."
   ]
  },
  {
   "cell_type": "code",
   "execution_count": null,
   "id": "a21b8c1d-78e6-40a3-afc6-8e9126398b9c",
   "metadata": {},
   "outputs": [],
   "source": [
    "x=12\n",
    "x **= 2\n",
    "print(x)"
   ]
  },
  {
   "cell_type": "markdown",
   "id": "ade556b7-b50a-41ba-b34e-deba6a2e09e2",
   "metadata": {},
   "source": [
    "3.10 Program development: Sequence Controlled Repetition"
   ]
  },
  {
   "cell_type": "markdown",
   "id": "0122cd07-90c2-4d61-83fd-8231af612280",
   "metadata": {},
   "source": [
    "Set total to zero\n",
    "Set grade counter to zero\n",
    "Set grades to a list of the ten grades\n",
    "\n",
    "For each grade in the list:\n",
    "    Add the grade ot the total\n",
    "    Add one to the grade counter\n",
    "\n",
    "Set the class average to the total divided by the number of grades\n",
    "Display the class average"
   ]
  },
  {
   "cell_type": "code",
   "execution_count": null,
   "id": "6cd8a908-1bf9-4786-ad03-b6864dbebe54",
   "metadata": {},
   "outputs": [],
   "source": [
    "#initializiation phase\n",
    "total = 0\n",
    "grade_counter = 0\n",
    "grades = [98,76,71,87,83,90,57,79,82,94]\n",
    "\n",
    "#processing phase\n",
    "for grades in grades:\n",
    "    total += grades\n",
    "    grade_counter += 1\n",
    "\n",
    "#termination phase\n",
    "average = total/grade_counter\n",
    "print(f'Class average is {average} and the program counted {grade_counter} grades')"
   ]
  },
  {
   "cell_type": "code",
   "execution_count": null,
   "id": "b2c0893b-bf6c-4d0e-b9e3-351e20d89b34",
   "metadata": {},
   "outputs": [],
   "source": [
    "#Self Check"
   ]
  },
  {
   "cell_type": "markdown",
   "id": "ebf90805-9c41-439e-be43-cc39d8601773",
   "metadata": {},
   "source": [
    "A(n) ___ describes what a program is supposed to do, but not how the program should do it\n",
    "- requirements statement\n",
    "Many of the scripts you'll write can be decompoased into three phases __,__,and ___.\n",
    "- initialization, processing, terminiation\n",
    "Display an f-string in which you insert the values of the variables number1(7) and number2(5) and their product. The display should be: 7 times 5 is 35"
   ]
  },
  {
   "cell_type": "code",
   "execution_count": null,
   "id": "a6406eb7-6052-4e85-9b12-5c9b8845eb95",
   "metadata": {},
   "outputs": [],
   "source": [
    "number1=7\n",
    "number2=5\n",
    "\n",
    "print(f'{number1} times {number2} is {number1 * number2}')"
   ]
  },
  {
   "cell_type": "markdown",
   "id": "3b33f1bf-d972-4b4b-99f1-fd397ebca6c4",
   "metadata": {},
   "source": [
    "3.13 Built-in Function range\n",
    "Function range also has 2 & 3 argument versions. "
   ]
  },
  {
   "cell_type": "code",
   "execution_count": null,
   "id": "18b39727-dde0-485f-ae56-b51b0c9027a0",
   "metadata": {},
   "outputs": [],
   "source": [
    "for number in range(5,12):\n",
    "    print(number,end=' ')"
   ]
  },
  {
   "cell_type": "markdown",
   "id": "fac41ef2-3f01-495b-a33e-ca7221861785",
   "metadata": {},
   "source": [
    "The 2 argument version - the first value (5) is the beginning point, and the values are returned up until the second value (12)."
   ]
  },
  {
   "cell_type": "code",
   "execution_count": null,
   "id": "2afc0052-73e5-40a1-8efc-f6fea8939ac7",
   "metadata": {},
   "outputs": [],
   "source": [
    "for number in range(0,16,2):\n",
    "    print(number,end=' ')"
   ]
  },
  {
   "cell_type": "markdown",
   "id": "76a26add-67d9-47a2-be7b-e8643949577d",
   "metadata": {},
   "source": [
    "The 3 argument version - the first value (0) is the beginning point, and the second value is the end of the range (16) and not returned, the third value (2) dictates the incriments of the returned values. In this case - every (2) values have been returned. "
   ]
  },
  {
   "cell_type": "code",
   "execution_count": null,
   "id": "9f8f03fb-1c1e-430b-ae12-eef8255fc7b6",
   "metadata": {},
   "outputs": [],
   "source": [
    "#Self Check"
   ]
  },
  {
   "cell_type": "markdown",
   "id": "899d965b-85eb-4563-8e6c-a4b6bd61f8bd",
   "metadata": {},
   "source": [
    "(T/F) Function call ranges(1,10) generates the sequence 1 through 10. \n",
    "- False, function call range (1,10) generates the sequence 1 - 9. \n",
    "What happens if you try to print the items in range(10,0,2)"
   ]
  },
  {
   "cell_type": "code",
   "execution_count": null,
   "id": "e24fcb51-c2e4-461b-afcd-695ef4fa6680",
   "metadata": {},
   "outputs": [],
   "source": [
    "for number in range (10,0,2):\n",
    "    print(number, end=' ')"
   ]
  },
  {
   "cell_type": "markdown",
   "id": "87619044-fb9d-413d-aad7-de9258e05347",
   "metadata": {},
   "source": [
    "Nothing displays because the step (2) is not negative."
   ]
  },
  {
   "cell_type": "markdown",
   "id": "386c9667-9e62-4b2e-b985-64da6f82c43d",
   "metadata": {},
   "source": [
    "Use a for statement, range and print to display on one line the sequence of values 99,88,77,66,55,44,33,22,11,0, each seperated by one space."
   ]
  },
  {
   "cell_type": "code",
   "execution_count": null,
   "id": "ff8ad189-c7c0-4e03-8eb4-ea189abc33bf",
   "metadata": {},
   "outputs": [],
   "source": [
    "for number in range(99,-1,-11):\n",
    "    print(number, end=' ')"
   ]
  },
  {
   "cell_type": "markdown",
   "id": "444e7406-923c-4a6f-ba1e-e355965687c5",
   "metadata": {},
   "source": [
    "Use for and range to sum the even integers from 2 through 100, then display the sum. "
   ]
  },
  {
   "cell_type": "code",
   "execution_count": null,
   "id": "a0332ba0-f769-476a-bbb4-360285c7e85b",
   "metadata": {},
   "outputs": [],
   "source": [
    "total = 0\n",
    "for number in range(2,101,2):\n",
    "    total += number\n",
    "print(total)"
   ]
  },
  {
   "cell_type": "markdown",
   "id": "5054d9b3-4832-47ef-9474-66b81b2b5cce",
   "metadata": {},
   "source": [
    "3.15 break and continue Statements\n",
    "break - while or for statement the break statement immediately exits the statement"
   ]
  },
  {
   "cell_type": "code",
   "execution_count": null,
   "id": "29b85ec7-c0a8-4a1e-a197-5960dff2971f",
   "metadata": {},
   "outputs": [],
   "source": [
    "for number in range(100):\n",
    "    if number == 20:\n",
    "        break\n",
    "    print(number, end=' ')\n"
   ]
  },
  {
   "cell_type": "markdown",
   "id": "d9ebb888-89a9-4efc-bb72-0ef9fa6dd5fc",
   "metadata": {},
   "source": [
    "continue - while or for statement the continue statement immediately skips the remainder of the loop's suite. In a while statement the condition is then tested to determine whether the loop should continue executing. In a for, the loop processes the next item in the sequence(if any). "
   ]
  },
  {
   "cell_type": "code",
   "execution_count": null,
   "id": "02171fc5-59e9-4319-9124-b5c5eee3f2b0",
   "metadata": {},
   "outputs": [],
   "source": [
    "for number in range(20):\n",
    "    if number == 5:\n",
    "        continue\n",
    "    print(number,end=' ')"
   ]
  },
  {
   "cell_type": "code",
   "execution_count": null,
   "id": "ecb6ce5d-da09-4bf7-9a01-428e901d5b9c",
   "metadata": {},
   "outputs": [],
   "source": [
    "for number in range(20):\n",
    "    if number == 5:\n",
    "        continue\n",
    "    if number == 15:\n",
    "        break\n",
    "    print(number,end=' ')"
   ]
  },
  {
   "cell_type": "markdown",
   "id": "48f1e774-c356-4cd0-a649-6874a8d0ffcf",
   "metadata": {},
   "source": [
    "3.16 Boolean Operators and,or and not\n",
    "\n",
    "and - evaluates both values to be true\n",
    "or - evaluates one value to be true\n",
    "not - reverses the meaning of the condition - True = False, False = True"
   ]
  },
  {
   "cell_type": "code",
   "execution_count": null,
   "id": "528be2c0-e975-472c-acf1-a03cd46be103",
   "metadata": {},
   "outputs": [],
   "source": [
    "#Self Check"
   ]
  },
  {
   "cell_type": "markdown",
   "id": "a7d3db55-09b0-4a1e-ab23-7391230865a1",
   "metadata": {},
   "source": [
    "Assume that i=1, j=2, k=3, and m=2. What does each of the following conditions display?\n",
    "    (i >= 1) and (j < 4)\n",
    "    (m <= 99) and (k < m)\n",
    "    (j >= i) or (k == m)\n",
    "    (k + m < j) or (3 - j >= k)\n",
    "    not (k > m)\n",
    "    "
   ]
  },
  {
   "cell_type": "code",
   "execution_count": null,
   "id": "24904472-07f5-484a-9dc6-94c80c8d91bc",
   "metadata": {},
   "outputs": [],
   "source": [
    "i = 1\n",
    "j = 2\n",
    "k = 3\n",
    "m = 2\n",
    "(i >= 1) and (j < 4)"
   ]
  },
  {
   "cell_type": "code",
   "execution_count": null,
   "id": "1eb81e0e-da7b-447f-8482-0e24e0969394",
   "metadata": {},
   "outputs": [],
   "source": [
    "(m <= 99) and (k < m)"
   ]
  },
  {
   "cell_type": "code",
   "execution_count": null,
   "id": "6a478ca7-43a5-443e-ac0b-8d5e78902e0e",
   "metadata": {},
   "outputs": [],
   "source": [
    "(j >= i) or (k == m)"
   ]
  },
  {
   "cell_type": "code",
   "execution_count": null,
   "id": "9948f67d-5baa-4e25-922f-72445144faf2",
   "metadata": {},
   "outputs": [],
   "source": [
    "(k + m < j) or (3 - j >= k)"
   ]
  },
  {
   "cell_type": "code",
   "execution_count": null,
   "id": "aeb68789-5628-4ec3-8c04-6694e78d7279",
   "metadata": {},
   "outputs": [],
   "source": [
    "not (k > m)"
   ]
  },
  {
   "cell_type": "markdown",
   "id": "beb02578-ab27-4c6f-88b6-f9a5d7771719",
   "metadata": {},
   "source": [
    "Calculate Measures of Central Tendency - Native Python\n",
    "Using the data provided in the Self Check on p 110-111, question 4, calculate:\n",
    "    Count using built-in len()\n",
    "    Sum using built-in sum()\n",
    "    Mean by dividing sum() by len()\n",
    "Confirm you get the same answers provided. "
   ]
  },
  {
   "cell_type": "code",
   "execution_count": null,
   "id": "fe2eb63b-d639-4eb6-b83f-658c5b5a79e6",
   "metadata": {},
   "outputs": [],
   "source": [
    "grades = [85,93,45,89,85]\n",
    "print(f'The number of grades is {len(grades)} and the sum of the grades is {sum(grades)}')\n",
    "print(f'The mean of the grades is {sum(grades)/len(grades)}')"
   ]
  },
  {
   "cell_type": "markdown",
   "id": "077cb77d-708a-49a3-973e-b95ae66bf7bb",
   "metadata": {},
   "source": [
    "Using the same data as above, and by calling functions in the statistics module - calculate:\n",
    "    Mean\n",
    "    Median \n",
    "    Mode\n",
    "Confirm you get the same answers as provided."
   ]
  },
  {
   "cell_type": "code",
   "execution_count": null,
   "id": "78142f1a-845d-440a-b49a-79471bb0df5c",
   "metadata": {},
   "outputs": [],
   "source": [
    "import statistics"
   ]
  },
  {
   "cell_type": "code",
   "execution_count": null,
   "id": "3425ded4-825c-49e3-a4dc-cdc4aa0f57c7",
   "metadata": {},
   "outputs": [],
   "source": [
    "grades = [85,93,45,89,85]\n",
    "print('The mean of the grades is:',statistics.mean(grades))\n",
    "print('The median of the grades is:',statistics.median(grades))\n",
    "print('The mode of the grades is:',statistics.mode(grades))"
   ]
  },
  {
   "cell_type": "markdown",
   "id": "960475ca-713f-4bda-831b-e8aefd79bf68",
   "metadata": {},
   "source": [
    "Custom Central Tendency\n",
    "-Created a sepearte notebook,but will be keeping the work here as well"
   ]
  },
  {
   "cell_type": "code",
   "execution_count": 5,
   "id": "9f67aa7c-e98c-4d86-9316-5100d7fe6495",
   "metadata": {},
   "outputs": [
    {
     "data": {
      "text/plain": [
       "'Purpose is to find the mean, median, mode, count, and sum of a central tendency data set'"
      ]
     },
     "execution_count": 5,
     "metadata": {},
     "output_type": "execute_result"
    }
   ],
   "source": [
    "\"\"\"Purpose is to find the mean, median, mode, count, and sum of a central tendency data set\"\"\""
   ]
  },
  {
   "cell_type": "code",
   "execution_count": 6,
   "id": "aa3542ce-83ac-4be2-aba1-df0d3f1d26c6",
   "metadata": {},
   "outputs": [
    {
     "name": "stdout",
     "output_type": "stream",
     "text": [
      "The number of variables is: 14 and the sum is 1034\n"
     ]
    }
   ],
   "source": [
    "numbers = 66,45,90,33,75,86,80,81,76,75,40,95,92,100\n",
    "\n",
    "print(f'The number of variables is: {len(numbers)} and the sum is {sum(numbers)}')\n",
    "\n",
    "import statistics"
   ]
  },
  {
   "cell_type": "code",
   "execution_count": 7,
   "id": "bef793b8-86b0-4b62-8936-640e7b5bebc2",
   "metadata": {},
   "outputs": [
    {
     "name": "stdout",
     "output_type": "stream",
     "text": [
      "The mean is 73.86 and the median is 78.0 and finally the mode is 75\n"
     ]
    }
   ],
   "source": [
    "print(f'The mean is {statistics.mean(numbers):.2f} and the median is {statistics.median(numbers)} and finally the mode is {statistics.mode(numbers)}')"
   ]
  },
  {
   "cell_type": "code",
   "execution_count": 8,
   "id": "20106510-ee22-404b-bb3d-d7e78073b1f4",
   "metadata": {},
   "outputs": [
    {
     "name": "stdout",
     "output_type": "stream",
     "text": [
      "Created by Lindsey Sullivan\n"
     ]
    }
   ],
   "source": [
    "print('Created by Lindsey Sullivan')"
   ]
  }
 ],
 "metadata": {
  "kernelspec": {
   "display_name": "Python 3",
   "language": "python",
   "name": "python3"
  },
  "language_info": {
   "codemirror_mode": {
    "name": "ipython",
    "version": 3
   },
   "file_extension": ".py",
   "mimetype": "text/x-python",
   "name": "python",
   "nbconvert_exporter": "python",
   "pygments_lexer": "ipython3",
   "version": "3.9.12"
  }
 },
 "nbformat": 4,
 "nbformat_minor": 5
}
