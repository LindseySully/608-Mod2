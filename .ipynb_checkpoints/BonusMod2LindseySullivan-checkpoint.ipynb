{
 "cells": [
  {
   "cell_type": "markdown",
   "id": "3aa7db4e-5cd8-435c-a8df-b981b7f323b1",
   "metadata": {},
   "source": [
    "Applications of this tool for my current work is the following: Currently in health care we look across a VAST amount of data on any given day trying to optimize the system for users. The concept of being able to anaylze that amount of data and come with tangiable statistics to inform decisions on why reference ranges should be from 36 - 39 vs. 23 - 30 as a temperature range would provide tangible evidence for these decisions. "
   ]
  },
  {
   "cell_type": "code",
   "execution_count": null,
   "id": "0ff1105a-11cb-4e16-89e9-b7053550be76",
   "metadata": {},
   "outputs": [],
   "source": [
    "\"\"\"Calculate length, sum, mean, median, and mode\"\"\""
   ]
  },
  {
   "cell_type": "code",
   "execution_count": 8,
   "id": "6058bf7e-2dbb-428a-b2d9-3ba7181d20ba",
   "metadata": {},
   "outputs": [],
   "source": [
    "import random\n",
    "import statistics"
   ]
  },
  {
   "cell_type": "code",
   "execution_count": 6,
   "id": "a0248ddf-b175-4b23-8dc9-f69508db6716",
   "metadata": {},
   "outputs": [
    {
     "name": "stdout",
     "output_type": "stream",
     "text": [
      "[180, 15, 168, 7, 135, 91, 197, 138, 207, 59, 245, 125, 88, 141, 77, 48, 25, 131, 40, 80, 63, 96, 109, 167, 121, 75, 142, 246, 162, 31, 185, 123, 232, 113, 155, 243, 146, 23, 193, 82, 84, 46, 13, 156, 67, 42, 186, 71, 47, 204, 37, 65, 4, 177, 208, 189, 53, 159, 10, 74, 89, 139, 49, 178, 163, 127, 200, 124, 237, 86, 144, 137, 161, 11, 249, 152, 111, 210, 126, 227, 94, 233, 198, 203, 19, 20, 169, 217, 79, 238, 69, 39, 115, 70, 205, 78, 201, 99, 43, 183, 129, 6, 101, 143, 55, 34, 170, 60, 242, 122, 2, 151, 215, 61, 157, 223, 160, 68, 190, 22, 196, 176, 130, 45, 234, 218, 44, 173, 9, 5, 133, 100, 153, 226, 116, 225, 171, 148, 16, 1, 213, 128, 187, 191, 117, 104, 114, 81, 12, 228] "
     ]
    }
   ],
   "source": [
    "#researched a way to pull random data\n",
    "numbers = random.sample(range(0,250),150)\n",
    "\n",
    "print(numbers, end=' ')"
   ]
  },
  {
   "cell_type": "code",
   "execution_count": 7,
   "id": "0f8895a3-05cd-48c2-be2a-104229fd7a40",
   "metadata": {},
   "outputs": [
    {
     "name": "stdout",
     "output_type": "stream",
     "text": [
      "The length of the data set is: 150, and the sum is 18493\n"
     ]
    }
   ],
   "source": [
    "print(f'The length of the data set is: {len(numbers)}, and the sum is {sum(numbers)}')"
   ]
  },
  {
   "cell_type": "code",
   "execution_count": 9,
   "id": "5c272264-a03b-4aee-a513-0333915d9791",
   "metadata": {},
   "outputs": [
    {
     "name": "stdout",
     "output_type": "stream",
     "text": [
      "The mean of the data set is: 123.29 and the median is 126.5 and finally the mode is 180\n"
     ]
    }
   ],
   "source": [
    "print(f'The mean of the data set is: {statistics.mean(numbers):.2f} and the median is {statistics.median(numbers)} and finally the mode is {statistics.mode(numbers)}')"
   ]
  },
  {
   "cell_type": "code",
   "execution_count": 10,
   "id": "71b7adce-db63-4a39-bd48-ce9b9af44d68",
   "metadata": {},
   "outputs": [
    {
     "name": "stdout",
     "output_type": "stream",
     "text": [
      "Created by Lindsey Sullivan\n"
     ]
    }
   ],
   "source": [
    "print('Created by Lindsey Sullivan')"
   ]
  },
  {
   "cell_type": "code",
   "execution_count": null,
   "id": "dfdbbc80-667c-4fba-8a4a-ab1b0e247e2f",
   "metadata": {},
   "outputs": [],
   "source": []
  }
 ],
 "metadata": {
  "kernelspec": {
   "display_name": "Python 3",
   "language": "python",
   "name": "python3"
  },
  "language_info": {
   "codemirror_mode": {
    "name": "ipython",
    "version": 3
   },
   "file_extension": ".py",
   "mimetype": "text/x-python",
   "name": "python",
   "nbconvert_exporter": "python",
   "pygments_lexer": "ipython3",
   "version": "3.9.12"
  }
 },
 "nbformat": 4,
 "nbformat_minor": 5
}
